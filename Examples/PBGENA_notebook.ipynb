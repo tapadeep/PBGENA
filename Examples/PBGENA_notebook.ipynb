{
  "nbformat": 4,
  "nbformat_minor": 0,
  "metadata": {
    "colab": {
      "name": "PBGENA.ipynb",
      "provenance": [],
      "collapsed_sections": []
    },
    "kernelspec": {
      "name": "python3",
      "display_name": "Python 3"
    },
    "language_info": {
      "name": "python"
    }
  },
  "cells": [
    {
      "cell_type": "markdown",
      "source": [
        "# Attributed Network Embedding"
      ],
      "metadata": {
        "id": "XjTNh3QhRnnZ"
      }
    },
    {
      "cell_type": "code",
      "execution_count": 1,
      "metadata": {
        "colab": {
          "base_uri": "https://localhost:8080/"
        },
        "id": "ftjEg9abidZD",
        "outputId": "999ec1d6-50f4-45cf-cc40-1541a286d0b0"
      },
      "outputs": [
        {
          "output_type": "stream",
          "name": "stdout",
          "text": [
            "Cloning into 'PBGENA'...\n",
            "remote: Enumerating objects: 754, done.\u001b[K\n",
            "remote: Counting objects: 100% (746/746), done.\u001b[K\n",
            "remote: Compressing objects: 100% (419/419), done.\u001b[K\n",
            "remote: Total 754 (delta 371), reused 656 (delta 301), pack-reused 8\u001b[K\n",
            "Receiving objects: 100% (754/754), 43.60 MiB | 22.95 MiB/s, done.\n",
            "Resolving deltas: 100% (371/371), done.\n",
            "Collecting numpy==1.21.5\n",
            "  Downloading numpy-1.21.5-cp37-cp37m-manylinux_2_12_x86_64.manylinux2010_x86_64.whl (15.7 MB)\n",
            "\u001b[K     |████████████████████████████████| 15.7 MB 8.3 MB/s \n",
            "\u001b[?25hCollecting scipy==1.7.3\n",
            "  Downloading scipy-1.7.3-cp37-cp37m-manylinux_2_12_x86_64.manylinux2010_x86_64.whl (38.1 MB)\n",
            "\u001b[K     |████████████████████████████████| 38.1 MB 1.1 MB/s \n",
            "\u001b[?25hCollecting bitarray==2.3.5\n",
            "  Downloading bitarray-2.3.5.tar.gz (88 kB)\n",
            "\u001b[K     |████████████████████████████████| 88 kB 9.7 MB/s \n",
            "\u001b[?25hCollecting mpi4py==3.1.3\n",
            "  Downloading mpi4py-3.1.3.tar.gz (2.5 MB)\n",
            "\u001b[K     |████████████████████████████████| 2.5 MB 53.7 MB/s \n",
            "\u001b[?25h  Installing build dependencies ... \u001b[?25l\u001b[?25hdone\n",
            "  Getting requirements to build wheel ... \u001b[?25l\u001b[?25hdone\n",
            "    Preparing wheel metadata ... \u001b[?25l\u001b[?25hdone\n",
            "Requirement already satisfied: scikit-learn==1.0.2 in /usr/local/lib/python3.7/dist-packages (from -r PBGENA/requirements.txt (line 5)) (1.0.2)\n",
            "Requirement already satisfied: networkx==2.6.3 in /usr/local/lib/python3.7/dist-packages (from -r PBGENA/requirements.txt (line 6)) (2.6.3)\n",
            "Collecting karateclub==1.2.2\n",
            "  Downloading karateclub-1.2.2.tar.gz (62 kB)\n",
            "\u001b[K     |████████████████████████████████| 62 kB 789 kB/s \n",
            "\u001b[?25hRequirement already satisfied: pandas==1.3.5 in /usr/local/lib/python3.7/dist-packages (from -r PBGENA/requirements.txt (line 8)) (1.3.5)\n",
            "Requirement already satisfied: joblib>=0.11 in /usr/local/lib/python3.7/dist-packages (from scikit-learn==1.0.2->-r PBGENA/requirements.txt (line 5)) (1.1.0)\n",
            "Requirement already satisfied: threadpoolctl>=2.0.0 in /usr/local/lib/python3.7/dist-packages (from scikit-learn==1.0.2->-r PBGENA/requirements.txt (line 5)) (3.1.0)\n",
            "Requirement already satisfied: decorator==4.4.2 in /usr/local/lib/python3.7/dist-packages (from karateclub==1.2.2->-r PBGENA/requirements.txt (line 7)) (4.4.2)\n",
            "Requirement already satisfied: tqdm in /usr/local/lib/python3.7/dist-packages (from karateclub==1.2.2->-r PBGENA/requirements.txt (line 7)) (4.62.3)\n",
            "Requirement already satisfied: python-louvain in /usr/local/lib/python3.7/dist-packages (from karateclub==1.2.2->-r PBGENA/requirements.txt (line 7)) (0.16)\n",
            "Collecting pygsp\n",
            "  Downloading PyGSP-0.5.1-py2.py3-none-any.whl (1.8 MB)\n",
            "\u001b[K     |████████████████████████████████| 1.8 MB 45.1 MB/s \n",
            "\u001b[?25hCollecting gensim>=4.0.0\n",
            "  Downloading gensim-4.1.2-cp37-cp37m-manylinux_2_12_x86_64.manylinux2010_x86_64.whl (24.1 MB)\n",
            "\u001b[K     |████████████████████████████████| 24.1 MB 1.3 MB/s \n",
            "\u001b[?25hRequirement already satisfied: six in /usr/local/lib/python3.7/dist-packages (from karateclub==1.2.2->-r PBGENA/requirements.txt (line 7)) (1.15.0)\n",
            "Collecting python-Levenshtein\n",
            "  Downloading python-Levenshtein-0.12.2.tar.gz (50 kB)\n",
            "\u001b[K     |████████████████████████████████| 50 kB 7.8 MB/s \n",
            "\u001b[?25hRequirement already satisfied: python-dateutil>=2.7.3 in /usr/local/lib/python3.7/dist-packages (from pandas==1.3.5->-r PBGENA/requirements.txt (line 8)) (2.8.2)\n",
            "Requirement already satisfied: pytz>=2017.3 in /usr/local/lib/python3.7/dist-packages (from pandas==1.3.5->-r PBGENA/requirements.txt (line 8)) (2018.9)\n",
            "Requirement already satisfied: smart-open>=1.8.1 in /usr/local/lib/python3.7/dist-packages (from gensim>=4.0.0->karateclub==1.2.2->-r PBGENA/requirements.txt (line 7)) (5.2.1)\n",
            "Requirement already satisfied: setuptools in /usr/local/lib/python3.7/dist-packages (from python-Levenshtein->karateclub==1.2.2->-r PBGENA/requirements.txt (line 7)) (57.4.0)\n",
            "Building wheels for collected packages: bitarray, mpi4py, karateclub, python-Levenshtein\n",
            "  Building wheel for bitarray (setup.py) ... \u001b[?25l\u001b[?25hdone\n",
            "  Created wheel for bitarray: filename=bitarray-2.3.5-cp37-cp37m-linux_x86_64.whl size=172018 sha256=b86168d8e56df4c5410e3af60972241e2691ce78af191bd6422ce5d5e12ef92b\n",
            "  Stored in directory: /root/.cache/pip/wheels/78/3f/c2/51401246e3e827137d0ea8fac1ce14508400f4a8f5e50d919a\n",
            "  Building wheel for mpi4py (PEP 517) ... \u001b[?25l\u001b[?25hdone\n",
            "  Created wheel for mpi4py: filename=mpi4py-3.1.3-cp37-cp37m-linux_x86_64.whl size=2185305 sha256=eb0f1975049ad689b2042f297d9d5d0704b5095cba28f792121a0fa6cb97acf3\n",
            "  Stored in directory: /root/.cache/pip/wheels/7a/07/14/6a0c63fa2c6e473c6edc40985b7d89f05c61ff25ee7f0ad9ac\n",
            "  Building wheel for karateclub (setup.py) ... \u001b[?25l\u001b[?25hdone\n",
            "  Created wheel for karateclub: filename=karateclub-1.2.2-py3-none-any.whl size=97743 sha256=bba459808dcdc585e0511dd8ee368ddcf17bdd77bedda08e523f54d6a92e1baa\n",
            "  Stored in directory: /root/.cache/pip/wheels/14/4b/99/abc777e42da28bc43b6959267f4f1c5eee06814a5c608a9ed2\n",
            "  Building wheel for python-Levenshtein (setup.py) ... \u001b[?25l\u001b[?25hdone\n",
            "  Created wheel for python-Levenshtein: filename=python_Levenshtein-0.12.2-cp37-cp37m-linux_x86_64.whl size=149861 sha256=6b1a6fa349edc33ae92b42f59c2afa6c035b572b1a2abee22de145f8f8355dda\n",
            "  Stored in directory: /root/.cache/pip/wheels/05/5f/ca/7c4367734892581bb5ff896f15027a932c551080b2abd3e00d\n",
            "Successfully built bitarray mpi4py karateclub python-Levenshtein\n",
            "Installing collected packages: numpy, scipy, python-Levenshtein, pygsp, gensim, mpi4py, karateclub, bitarray\n",
            "  Attempting uninstall: numpy\n",
            "    Found existing installation: numpy 1.19.5\n",
            "    Uninstalling numpy-1.19.5:\n",
            "      Successfully uninstalled numpy-1.19.5\n",
            "  Attempting uninstall: scipy\n",
            "    Found existing installation: scipy 1.4.1\n",
            "    Uninstalling scipy-1.4.1:\n",
            "      Successfully uninstalled scipy-1.4.1\n",
            "  Attempting uninstall: gensim\n",
            "    Found existing installation: gensim 3.6.0\n",
            "    Uninstalling gensim-3.6.0:\n",
            "      Successfully uninstalled gensim-3.6.0\n",
            "\u001b[31mERROR: pip's dependency resolver does not currently take into account all the packages that are installed. This behaviour is the source of the following dependency conflicts.\n",
            "yellowbrick 1.3.post1 requires numpy<1.20,>=1.16.0, but you have numpy 1.21.5 which is incompatible.\n",
            "datascience 0.10.6 requires folium==0.2.1, but you have folium 0.8.3 which is incompatible.\n",
            "albumentations 0.1.12 requires imgaug<0.2.7,>=0.2.5, but you have imgaug 0.2.9 which is incompatible.\u001b[0m\n",
            "Successfully installed bitarray-2.3.5 gensim-4.1.2 karateclub-1.2.2 mpi4py-3.1.3 numpy-1.21.5 pygsp-0.5.1 python-Levenshtein-0.12.2 scipy-1.7.3\n"
          ]
        },
        {
          "output_type": "execute_result",
          "data": {
            "text/plain": [
              ""
            ]
          },
          "metadata": {},
          "execution_count": 1
        }
      ],
      "source": [
        "%%shell\n",
        "git clone https://github.com/tapadeep/PBGENA.git\n",
        "pip install -r PBGENA/requirements.txt"
      ]
    },
    {
      "cell_type": "markdown",
      "source": [
        "# BGENA Node Embedding"
      ],
      "metadata": {
        "id": "2Z3ohPFYRmz-"
      }
    },
    {
      "cell_type": "code",
      "source": [
        "%%shell\n",
        "cd PBGENA/Code/Algorithm\n",
        "python BGENA.py --graph Facebook --N 2000 --alpha 0.5 --b_a 0.7 --b_t 0.6"
      ],
      "metadata": {
        "colab": {
          "base_uri": "https://localhost:8080/"
        },
        "id": "srerf9rJNkdE",
        "outputId": "ffcef661-a024-4abd-8b52-818114085a8d"
      },
      "execution_count": 50,
      "outputs": [
        {
          "output_type": "stream",
          "name": "stdout",
          "text": [
            "\n",
            "Setting up BGENA...\n",
            "\n",
            "Removing unwanted edges...\n",
            "\n",
            "Facebook:\n",
            "#Nodes = 4039\n",
            "#Edges = 88234\n",
            "#Attributes = 1283\n",
            "\n",
            "Embedding...\n",
            "\n",
            "Mapping...\n",
            "\n",
            "Sketching...\n",
            "\n",
            "Edge Propagation...\n",
            "\n",
            "Embedding Time = 1.80s\n",
            "\n",
            "Embedding Dimension = 2000 \n",
            "\n"
          ]
        },
        {
          "output_type": "execute_result",
          "data": {
            "text/plain": [
              ""
            ]
          },
          "metadata": {},
          "execution_count": 50
        }
      ]
    },
    {
      "cell_type": "markdown",
      "source": [
        "# BGENA Node Classification"
      ],
      "metadata": {
        "id": "1mINpKWeRlyw"
      }
    },
    {
      "cell_type": "code",
      "source": [
        "%%shell\n",
        "cd 'PBGENA/Code/Node Classification'\n",
        "python node_classification.py --graph Facebook --algorithm BGENA --tr 0.7 --multi True"
      ],
      "metadata": {
        "colab": {
          "base_uri": "https://localhost:8080/"
        },
        "id": "64uAJ4O_Q9WP",
        "outputId": "5b540f10-6ea8-403f-d7ca-ccfe4819dfc3"
      },
      "execution_count": 51,
      "outputs": [
        {
          "output_type": "stream",
          "name": "stdout",
          "text": [
            "\n",
            "Setting up Node Classifier...\n",
            "\n",
            "Removing unlabeled instances...\n",
            "\n",
            "Facebook:\n",
            "#Labels = 193\n",
            "\n",
            "Training Classifier...\n",
            "\n",
            "Performance:\n",
            "Macro-F1 = 32.87%\n",
            "Micro-F1 = 78.16%\n",
            "\n",
            "Classification Time = 81.21s\n",
            "\n"
          ]
        },
        {
          "output_type": "execute_result",
          "data": {
            "text/plain": [
              ""
            ]
          },
          "metadata": {},
          "execution_count": 51
        }
      ]
    },
    {
      "cell_type": "markdown",
      "source": [
        "# BGENA Link Prediction"
      ],
      "metadata": {
        "id": "m20cFpVLYnYv"
      }
    },
    {
      "cell_type": "code",
      "source": [
        "%%shell\n",
        "cd 'PBGENA/Code/Link Prediction'\n",
        "python -B link_prediction.py --graph Facebook --algorithm BGENA --erf 0.3 --N 2000 --alpha 0.8 --b_a 1 --b_t 0"
      ],
      "metadata": {
        "colab": {
          "base_uri": "https://localhost:8080/"
        },
        "id": "beMhRbtkRP6t",
        "outputId": "ff14bfc5-fc61-40ef-dc78-aa28ddddd93a"
      },
      "execution_count": 53,
      "outputs": [
        {
          "output_type": "stream",
          "name": "stdout",
          "text": [
            "\n",
            "Setting up Link Predictor...\n",
            "\n",
            "Setting up BGENA...\n",
            "\n",
            "Generating negative edges...\n",
            "\n",
            "Removing unwanted edges...\n",
            "\n",
            "Facebook:\n",
            "#Nodes = 4039\n",
            "#Edges = 88234\n",
            "#Attributes = 1283\n",
            "\n",
            "Creating residual graph...\n",
            "\n",
            "Randomly removing edges...\n",
            "\n",
            "Embedding residual graph...\n",
            "\n",
            "Embedding...\n",
            "\n",
            "Mapping...\n",
            "\n",
            "Sketching...\n",
            "\n",
            "Edge Propagation...\n",
            "\n",
            "Embedding Time = 0.20s\n",
            "\n",
            "Embedding Dimension = 2000 \n",
            "\n",
            "Embedding as numpy array...\n",
            "\n",
            "Generating train-test sets...\n",
            "\n",
            "Training Predictor...\n",
            "\n",
            "Performance:\n",
            "AUC-ROC = 97.82%\n",
            "Avg Precision = 97.90%\n",
            "\n",
            "Total Prediction Time = 8.79s\n",
            "\n"
          ]
        },
        {
          "output_type": "execute_result",
          "data": {
            "text/plain": [
              ""
            ]
          },
          "metadata": {},
          "execution_count": 53
        }
      ]
    },
    {
      "cell_type": "markdown",
      "source": [
        "# PBGENA Node Embedding\n",
        "Replace the line :\n",
        "\n",
        "```\n",
        "os.system('mpiexec -n {0} python PBGENA_routine.py'.format(self.__p))\n",
        "```\n",
        "\n",
        "in ```PBGENA/Code/Algorithm/PBGENA.py``` to:\n",
        "\n",
        "```\n",
        "os.system('mpiexec -n {0} --allow-run-as-root python PBGENA_routine.py'.format(self.__p))\n",
        "```"
      ],
      "metadata": {
        "id": "xkg1RFjym2Lh"
      }
    },
    {
      "cell_type": "code",
      "source": [
        "%%shell\n",
        "cd PBGENA/Code/Algorithm\n",
        "python PBGENA.py --graph PubMed --N 8000 --alpha 0.65 --b_a 0 --b_t 0.8 --p 6"
      ],
      "metadata": {
        "colab": {
          "base_uri": "https://localhost:8080/"
        },
        "id": "KWAUTrKOJ4fR",
        "outputId": "225fa7da-66bd-4457-a462-963fbf2c82a1"
      },
      "execution_count": 54,
      "outputs": [
        {
          "output_type": "stream",
          "name": "stdout",
          "text": [
            "\n",
            "Setting up PBGENA...\n",
            "\n",
            "Removing unwanted edges...\n",
            "\n",
            "PubMed:\n",
            "#Nodes = 19717\n",
            "#Edges = 44324\n",
            "#Attributes = 500\n",
            "\n",
            "Embedding...\n",
            "\n",
            "Embedding Time = 10.35s\n",
            "Embedding Time + Graph Reading Time = 15.56s\n",
            "\n",
            "Embedding Dimension = 8000 \n",
            "\n"
          ]
        },
        {
          "output_type": "execute_result",
          "data": {
            "text/plain": [
              ""
            ]
          },
          "metadata": {},
          "execution_count": 54
        }
      ]
    },
    {
      "cell_type": "markdown",
      "source": [
        "# PBGENA Node Classification"
      ],
      "metadata": {
        "id": "qqyMHjtwm7kx"
      }
    },
    {
      "cell_type": "code",
      "source": [
        "%%shell\n",
        "cd 'PBGENA/Code/Node Classification'\n",
        "python node_classification.py --graph PubMed --algorithm PBGENA --tr 0.7"
      ],
      "metadata": {
        "id": "yafeh4gdKB1A",
        "colab": {
          "base_uri": "https://localhost:8080/"
        },
        "outputId": "b233fa33-8d59-4e57-9f1c-7fad935cb903"
      },
      "execution_count": 55,
      "outputs": [
        {
          "output_type": "stream",
          "name": "stdout",
          "text": [
            "\n",
            "Setting up Node Classifier...\n",
            "\n",
            "Removing unlabeled instances...\n",
            "\n",
            "PubMed:\n",
            "#Labels = 3\n",
            "\n",
            "Training Classifier...\n",
            "\n",
            "Performance:\n",
            "Macro-F1 = 88.10%\n",
            "Micro-F1 = 88.18%\n",
            "\n",
            "Classification Time = 149.58s\n",
            "\n"
          ]
        },
        {
          "output_type": "execute_result",
          "data": {
            "text/plain": [
              ""
            ]
          },
          "metadata": {},
          "execution_count": 55
        }
      ]
    },
    {
      "cell_type": "markdown",
      "source": [
        "# PBGENA Link Prediction"
      ],
      "metadata": {
        "id": "msrTMQmi8RJf"
      }
    },
    {
      "cell_type": "code",
      "source": [
        "%%shell\n",
        "cd 'PBGENA/Code/Link Prediction'\n",
        "python -B link_prediction.py --graph PubMed --algorithm PBGENA --erf 0.3 --N 8000 --alpha 1 --b_a 0.25 --b_t 0 --p 6"
      ],
      "metadata": {
        "colab": {
          "base_uri": "https://localhost:8080/"
        },
        "id": "MU5e62OpV5nQ",
        "outputId": "01920860-228d-4493-85a8-5e690fb94931"
      },
      "execution_count": 17,
      "outputs": [
        {
          "output_type": "stream",
          "name": "stdout",
          "text": [
            "\n",
            "Setting up Link Predictor...\n",
            "\n",
            "Setting up PBGENA...\n",
            "\n",
            "Generating negative edges...\n",
            "\n",
            "Removing unwanted edges...\n",
            "\n",
            "PubMed:\n",
            "#Nodes = 19717\n",
            "#Edges = 44324\n",
            "#Attributes = 500\n",
            "\n",
            "Creating residual graph...\n",
            "\n",
            "Randomly removing edges...\n",
            "\n",
            "Embedding residual graph...\n",
            "\n",
            "Embedding...\n",
            "\n",
            "Embedding Time = 24.99s\n",
            "Embedding Time + Graph Reading Time = 29.92s\n",
            "\n",
            "Embedding Dimension = 8000 \n",
            "\n",
            "Embedding as numpy array...\n",
            "\n",
            "Generating train-test sets...\n",
            "\n",
            "Training Predictor...\n",
            "\n",
            "Performance:\n",
            "AUC-ROC = 92.53%\n",
            "Avg Precision = 92.97%\n",
            "\n",
            "Total Prediction Time = 36.47s\n",
            "\n"
          ]
        },
        {
          "output_type": "execute_result",
          "data": {
            "text/plain": [
              ""
            ]
          },
          "metadata": {},
          "execution_count": 17
        }
      ]
    },
    {
      "cell_type": "markdown",
      "source": [
        "# Baseline Node Embedding"
      ],
      "metadata": {
        "id": "tQSWJ3Hu03qg"
      }
    },
    {
      "cell_type": "code",
      "source": [
        "%%shell\n",
        "cd PBGENA/Code/Algorithm\n",
        "python Baseline.py --graph CiteSeer --algorithm FeatherNode --reduction_dimensions 25 --eval_points 5 --order 1 --theta_max 1"
      ],
      "metadata": {
        "colab": {
          "base_uri": "https://localhost:8080/"
        },
        "id": "ALndrKLf06jQ",
        "outputId": "f5a33f77-d4c8-4838-bb12-2e6f3ca97aff"
      },
      "execution_count": 56,
      "outputs": [
        {
          "output_type": "stream",
          "name": "stdout",
          "text": [
            "\n",
            "Setting up the baseline...\n",
            "\n",
            "Preparing the graph...\n",
            "\n",
            "CiteSeer:\n",
            "#Nodes = 3312\n",
            "#Edges = 4536\n",
            "#Attributes = 3703\n",
            "\n",
            "Embedding...\n",
            "\n",
            "Embedding Time = 0.42s\n",
            "\n",
            "Embedding Dimension = 250 \n",
            "\n"
          ]
        },
        {
          "output_type": "execute_result",
          "data": {
            "text/plain": [
              ""
            ]
          },
          "metadata": {},
          "execution_count": 56
        }
      ]
    },
    {
      "cell_type": "markdown",
      "source": [
        "# Baseline Node Classification"
      ],
      "metadata": {
        "id": "o3CaDYUk1Ab_"
      }
    },
    {
      "cell_type": "code",
      "source": [
        "%%shell\n",
        "cd 'PBGENA/Code/Node Classification'\n",
        "python node_classification.py --graph CiteSeer --algorithm FeatherNode --tr 0.7"
      ],
      "metadata": {
        "colab": {
          "base_uri": "https://localhost:8080/"
        },
        "id": "FK7VoMfE1Eto",
        "outputId": "408521e5-ae0e-4856-81d0-51f9a1f0319d"
      },
      "execution_count": 57,
      "outputs": [
        {
          "output_type": "stream",
          "name": "stdout",
          "text": [
            "\n",
            "Setting up Node Classifier...\n",
            "\n",
            "Removing unlabeled instances...\n",
            "\n",
            "CiteSeer:\n",
            "#Labels = 6\n",
            "\n",
            "Training Classifier...\n",
            "\n",
            "Performance:\n",
            "Macro-F1 = 66.67%\n",
            "Micro-F1 = 72.84%\n",
            "\n",
            "Classification Time = 1.39s\n",
            "\n"
          ]
        },
        {
          "output_type": "execute_result",
          "data": {
            "text/plain": [
              ""
            ]
          },
          "metadata": {},
          "execution_count": 57
        }
      ]
    },
    {
      "cell_type": "markdown",
      "source": [
        "# Baseline Link Prediction"
      ],
      "metadata": {
        "id": "fyXdkqqt1H0o"
      }
    },
    {
      "cell_type": "code",
      "source": [
        "%%shell\n",
        "cd 'PBGENA/Code/Link Prediction'\n",
        "python -B link_prediction.py --graph CiteSeer --algorithm FeatherNode --erf 0.3 --reduction_dimensions 25 --eval_points 5 --order 1 --theta_max 1"
      ],
      "metadata": {
        "colab": {
          "base_uri": "https://localhost:8080/"
        },
        "id": "H0E9Lwaj1KYY",
        "outputId": "9a56fc16-2c4e-4b17-cbf8-98242cb986f1"
      },
      "execution_count": 58,
      "outputs": [
        {
          "output_type": "stream",
          "name": "stdout",
          "text": [
            "\n",
            "Setting up Link Predictor...\n",
            "\n",
            "Setting up the baseline...\n",
            "\n",
            "Generating negative edges...\n",
            "\n",
            "Preparing the graph...\n",
            "\n",
            "CiteSeer:\n",
            "#Nodes = 3312\n",
            "#Edges = 4536\n",
            "#Attributes = 3703\n",
            "\n",
            "Creating residual graph...\n",
            "\n",
            "Randomly removing edges...\n",
            "\n",
            "Embedding residual graph...\n",
            "\n",
            "Embedding...\n",
            "\n",
            "Embedding Time = 0.41s\n",
            "\n",
            "Embedding Dimension = 250 \n",
            "\n",
            "Generating train-test sets...\n",
            "\n",
            "Training Predictor...\n",
            "\n",
            "Performance:\n",
            "AUC-ROC = 84.52%\n",
            "Avg Precision = 86.97%\n",
            "\n",
            "Total Prediction Time = 0.84s\n",
            "\n"
          ]
        },
        {
          "output_type": "execute_result",
          "data": {
            "text/plain": [
              ""
            ]
          },
          "metadata": {},
          "execution_count": 58
        }
      ]
    },
    {
      "cell_type": "markdown",
      "source": [
        "# File Conversion"
      ],
      "metadata": {
        "id": "EQ-9otVD6MWR"
      }
    },
    {
      "cell_type": "code",
      "source": [
        "%%shell\n",
        "cd PBGENA/Datasets\n",
        "python data_processing.py --file cora --graph Cora"
      ],
      "metadata": {
        "colab": {
          "base_uri": "https://localhost:8080/"
        },
        "id": "oWMtzGal6DOF",
        "outputId": "38c5f45e-0b60-47e4-8b7e-41265acbedd7"
      },
      "execution_count": 59,
      "outputs": [
        {
          "output_type": "stream",
          "name": "stdout",
          "text": [
            "\n",
            "Setting up Data Processor...\n",
            "\n",
            "Extracting Files...\n",
            "\n",
            "Creating Edge List...\n",
            "\n",
            "Creating Attribute Matrix...\n",
            "\n",
            "Creating Label Array...\n",
            "\n",
            "Deleting Temporary Files...\n",
            "\n"
          ]
        },
        {
          "output_type": "execute_result",
          "data": {
            "text/plain": [
              ""
            ]
          },
          "metadata": {},
          "execution_count": 59
        }
      ]
    }
  ]
}