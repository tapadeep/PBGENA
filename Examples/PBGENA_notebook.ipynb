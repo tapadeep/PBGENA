{
  "nbformat": 4,
  "nbformat_minor": 0,
  "metadata": {
    "colab": {
      "name": "PBGENA.ipynb",
      "provenance": [],
      "collapsed_sections": []
    },
    "kernelspec": {
      "name": "python3",
      "display_name": "Python 3"
    },
    "language_info": {
      "name": "python"
    }
  },
  "cells": [
    {
      "cell_type": "markdown",
      "source": [
        "# Attributed Network Embedding"
      ],
      "metadata": {
        "id": "XjTNh3QhRnnZ"
      }
    },
    {
      "cell_type": "code",
      "execution_count": 1,
      "metadata": {
        "colab": {
          "base_uri": "https://localhost:8080/"
        },
        "id": "ftjEg9abidZD",
        "outputId": "a37b9527-dc1a-45c3-ebce-3f008194d353"
      },
      "outputs": [
        {
          "output_type": "stream",
          "name": "stdout",
          "text": [
            "Cloning into 'PBGENA'...\n",
            "remote: Enumerating objects: 409, done.\u001b[K\n",
            "remote: Counting objects: 100% (401/401), done.\u001b[K\n",
            "remote: Compressing objects: 100% (378/378), done.\u001b[K\n",
            "remote: Total 409 (delta 175), reused 0 (delta 0), pack-reused 8\u001b[K\n",
            "Receiving objects: 100% (409/409), 32.94 MiB | 6.44 MiB/s, done.\n",
            "Resolving deltas: 100% (175/175), done.\n",
            "Collecting numpy==1.21.5\n",
            "  Downloading numpy-1.21.5-cp37-cp37m-manylinux_2_12_x86_64.manylinux2010_x86_64.whl (15.7 MB)\n",
            "\u001b[K     |████████████████████████████████| 15.7 MB 129 kB/s \n",
            "\u001b[?25hCollecting scipy==1.7.3\n",
            "  Downloading scipy-1.7.3-cp37-cp37m-manylinux_2_12_x86_64.manylinux2010_x86_64.whl (38.1 MB)\n",
            "\u001b[K     |████████████████████████████████| 38.1 MB 1.3 MB/s \n",
            "\u001b[?25hCollecting bitarray==2.3.5\n",
            "  Downloading bitarray-2.3.5.tar.gz (88 kB)\n",
            "\u001b[K     |████████████████████████████████| 88 kB 7.4 MB/s \n",
            "\u001b[?25hCollecting mpi4py==3.1.3\n",
            "  Downloading mpi4py-3.1.3.tar.gz (2.5 MB)\n",
            "\u001b[K     |████████████████████████████████| 2.5 MB 47.5 MB/s \n",
            "\u001b[?25h  Installing build dependencies ... \u001b[?25l\u001b[?25hdone\n",
            "  Getting requirements to build wheel ... \u001b[?25l\u001b[?25hdone\n",
            "    Preparing wheel metadata ... \u001b[?25l\u001b[?25hdone\n",
            "Requirement already satisfied: scikit-learn==1.0.2 in /usr/local/lib/python3.7/dist-packages (from -r PBGENA/requirements.txt (line 5)) (1.0.2)\n",
            "Requirement already satisfied: networkx==2.6.3 in /usr/local/lib/python3.7/dist-packages (from -r PBGENA/requirements.txt (line 6)) (2.6.3)\n",
            "Collecting karateclub==1.2.2\n",
            "  Downloading karateclub-1.2.2.tar.gz (62 kB)\n",
            "\u001b[K     |████████████████████████████████| 62 kB 745 kB/s \n",
            "\u001b[?25hRequirement already satisfied: threadpoolctl>=2.0.0 in /usr/local/lib/python3.7/dist-packages (from scikit-learn==1.0.2->-r PBGENA/requirements.txt (line 5)) (3.0.0)\n",
            "Requirement already satisfied: joblib>=0.11 in /usr/local/lib/python3.7/dist-packages (from scikit-learn==1.0.2->-r PBGENA/requirements.txt (line 5)) (1.1.0)\n",
            "Requirement already satisfied: decorator==4.4.2 in /usr/local/lib/python3.7/dist-packages (from karateclub==1.2.2->-r PBGENA/requirements.txt (line 7)) (4.4.2)\n",
            "Requirement already satisfied: tqdm in /usr/local/lib/python3.7/dist-packages (from karateclub==1.2.2->-r PBGENA/requirements.txt (line 7)) (4.62.3)\n",
            "Requirement already satisfied: python-louvain in /usr/local/lib/python3.7/dist-packages (from karateclub==1.2.2->-r PBGENA/requirements.txt (line 7)) (0.15)\n",
            "Collecting pygsp\n",
            "  Downloading PyGSP-0.5.1-py2.py3-none-any.whl (1.8 MB)\n",
            "\u001b[K     |████████████████████████████████| 1.8 MB 46.1 MB/s \n",
            "\u001b[?25hCollecting gensim>=4.0.0\n",
            "  Downloading gensim-4.1.2-cp37-cp37m-manylinux_2_12_x86_64.manylinux2010_x86_64.whl (24.1 MB)\n",
            "\u001b[K     |████████████████████████████████| 24.1 MB 1.2 MB/s \n",
            "\u001b[?25hRequirement already satisfied: pandas in /usr/local/lib/python3.7/dist-packages (from karateclub==1.2.2->-r PBGENA/requirements.txt (line 7)) (1.1.5)\n",
            "Requirement already satisfied: six in /usr/local/lib/python3.7/dist-packages (from karateclub==1.2.2->-r PBGENA/requirements.txt (line 7)) (1.15.0)\n",
            "Collecting python-Levenshtein\n",
            "  Downloading python-Levenshtein-0.12.2.tar.gz (50 kB)\n",
            "\u001b[K     |████████████████████████████████| 50 kB 7.6 MB/s \n",
            "\u001b[?25hRequirement already satisfied: smart-open>=1.8.1 in /usr/local/lib/python3.7/dist-packages (from gensim>=4.0.0->karateclub==1.2.2->-r PBGENA/requirements.txt (line 7)) (5.2.1)\n",
            "Requirement already satisfied: pytz>=2017.2 in /usr/local/lib/python3.7/dist-packages (from pandas->karateclub==1.2.2->-r PBGENA/requirements.txt (line 7)) (2018.9)\n",
            "Requirement already satisfied: python-dateutil>=2.7.3 in /usr/local/lib/python3.7/dist-packages (from pandas->karateclub==1.2.2->-r PBGENA/requirements.txt (line 7)) (2.8.2)\n",
            "Requirement already satisfied: setuptools in /usr/local/lib/python3.7/dist-packages (from python-Levenshtein->karateclub==1.2.2->-r PBGENA/requirements.txt (line 7)) (57.4.0)\n",
            "Building wheels for collected packages: bitarray, mpi4py, karateclub, python-Levenshtein\n",
            "  Building wheel for bitarray (setup.py) ... \u001b[?25l\u001b[?25hdone\n",
            "  Created wheel for bitarray: filename=bitarray-2.3.5-cp37-cp37m-linux_x86_64.whl size=171995 sha256=29030dc22a6e4f3399561c9f70b42d0803cd07554596fd7ee13cf60eb261785f\n",
            "  Stored in directory: /root/.cache/pip/wheels/78/3f/c2/51401246e3e827137d0ea8fac1ce14508400f4a8f5e50d919a\n",
            "  Building wheel for mpi4py (PEP 517) ... \u001b[?25l\u001b[?25hdone\n",
            "  Created wheel for mpi4py: filename=mpi4py-3.1.3-cp37-cp37m-linux_x86_64.whl size=2185313 sha256=72a8e6d2ab1251fa9600c77c7fb4431a9fe6a2de6d439ade8a6e15a0a5908573\n",
            "  Stored in directory: /root/.cache/pip/wheels/7a/07/14/6a0c63fa2c6e473c6edc40985b7d89f05c61ff25ee7f0ad9ac\n",
            "  Building wheel for karateclub (setup.py) ... \u001b[?25l\u001b[?25hdone\n",
            "  Created wheel for karateclub: filename=karateclub-1.2.2-py3-none-any.whl size=97743 sha256=bb47452ac2dd3949652dae98316b879db5c6117fd23b693193336b8cbc5618eb\n",
            "  Stored in directory: /root/.cache/pip/wheels/14/4b/99/abc777e42da28bc43b6959267f4f1c5eee06814a5c608a9ed2\n",
            "  Building wheel for python-Levenshtein (setup.py) ... \u001b[?25l\u001b[?25hdone\n",
            "  Created wheel for python-Levenshtein: filename=python_Levenshtein-0.12.2-cp37-cp37m-linux_x86_64.whl size=149862 sha256=271429b7b435386a052a154fddb4d399a6c9d6fcd0c1d79a26cb7f8058369a81\n",
            "  Stored in directory: /root/.cache/pip/wheels/05/5f/ca/7c4367734892581bb5ff896f15027a932c551080b2abd3e00d\n",
            "Successfully built bitarray mpi4py karateclub python-Levenshtein\n",
            "Installing collected packages: numpy, scipy, python-Levenshtein, pygsp, gensim, mpi4py, karateclub, bitarray\n",
            "  Attempting uninstall: numpy\n",
            "    Found existing installation: numpy 1.19.5\n",
            "    Uninstalling numpy-1.19.5:\n",
            "      Successfully uninstalled numpy-1.19.5\n",
            "  Attempting uninstall: scipy\n",
            "    Found existing installation: scipy 1.4.1\n",
            "    Uninstalling scipy-1.4.1:\n",
            "      Successfully uninstalled scipy-1.4.1\n",
            "  Attempting uninstall: gensim\n",
            "    Found existing installation: gensim 3.6.0\n",
            "    Uninstalling gensim-3.6.0:\n",
            "      Successfully uninstalled gensim-3.6.0\n",
            "\u001b[31mERROR: pip's dependency resolver does not currently take into account all the packages that are installed. This behaviour is the source of the following dependency conflicts.\n",
            "yellowbrick 1.3.post1 requires numpy<1.20,>=1.16.0, but you have numpy 1.21.5 which is incompatible.\n",
            "datascience 0.10.6 requires folium==0.2.1, but you have folium 0.8.3 which is incompatible.\n",
            "albumentations 0.1.12 requires imgaug<0.2.7,>=0.2.5, but you have imgaug 0.2.9 which is incompatible.\u001b[0m\n",
            "Successfully installed bitarray-2.3.5 gensim-4.1.2 karateclub-1.2.2 mpi4py-3.1.3 numpy-1.21.5 pygsp-0.5.1 python-Levenshtein-0.12.2 scipy-1.7.3\n"
          ]
        },
        {
          "output_type": "execute_result",
          "data": {
            "text/plain": [
              ""
            ]
          },
          "metadata": {},
          "execution_count": 1
        }
      ],
      "source": [
        "%%shell\n",
        "git clone https://github.com/tapadeep/PBGENA.git\n",
        "pip install -r PBGENA/requirements.txt"
      ]
    },
    {
      "cell_type": "markdown",
      "source": [
        "# BGENA Node Embedding"
      ],
      "metadata": {
        "id": "2Z3ohPFYRmz-"
      }
    },
    {
      "cell_type": "code",
      "source": [
        "%%shell\n",
        "cd PBGENA/Code/Algorithm\n",
        "python BGENA.py --graph Facebook --N 2000 --alpha 0.5 --b_a 0.7 --b_t 0.6"
      ],
      "metadata": {
        "colab": {
          "base_uri": "https://localhost:8080/"
        },
        "id": "srerf9rJNkdE",
        "outputId": "281cf9b0-7d0e-4e73-f7d6-0a902306758d"
      },
      "execution_count": null,
      "outputs": [
        {
          "output_type": "stream",
          "name": "stdout",
          "text": [
            "\n",
            "Setting up BGENA...\n",
            "\n",
            "Removing unwanted edges...\n",
            "\n",
            "Facebook:\n",
            "#Nodes = 4039\n",
            "#Edges = 88234\n",
            "#Attributes = 1283\n",
            "\n",
            "Embedding...\n",
            "\n",
            "Mapping...\n",
            "\n",
            "Sketching...\n",
            "\n",
            "Edge Propagation...\n",
            "\n",
            "Embedding Time = 1.5442s\n",
            "\n"
          ]
        },
        {
          "output_type": "execute_result",
          "data": {
            "text/plain": [
              ""
            ]
          },
          "metadata": {},
          "execution_count": 2
        }
      ]
    },
    {
      "cell_type": "markdown",
      "source": [
        "# BGENA Node Classification"
      ],
      "metadata": {
        "id": "1mINpKWeRlyw"
      }
    },
    {
      "cell_type": "code",
      "source": [
        "%%shell\n",
        "cd 'PBGENA/Code/Node Classification'\n",
        "python node_classification.py --graph Facebook --algorithm BGENA --tr 0.7 --multi True"
      ],
      "metadata": {
        "colab": {
          "base_uri": "https://localhost:8080/"
        },
        "id": "64uAJ4O_Q9WP",
        "outputId": "8c0269fe-613c-4227-c914-94db0b0f2e88"
      },
      "execution_count": null,
      "outputs": [
        {
          "output_type": "stream",
          "name": "stdout",
          "text": [
            "\n",
            "Setting up Node Classifier...\n",
            "\n",
            "Removing unlabeled instances...\n",
            "\n",
            "Facebook:\n",
            "#Labels = 193\n",
            "\n",
            "Training Classifier...\n",
            "\n",
            "Performance:\n",
            "Macro F1 = 0.37033006134127944\n",
            "Micro F1 = 0.7815596725549333\n",
            "\n",
            "Classification Time = 94.6938s\n",
            "\n"
          ]
        },
        {
          "output_type": "execute_result",
          "data": {
            "text/plain": [
              ""
            ]
          },
          "metadata": {},
          "execution_count": 3
        }
      ]
    },
    {
      "cell_type": "markdown",
      "source": [
        "# BGENA Link Prediction"
      ],
      "metadata": {
        "id": "m20cFpVLYnYv"
      }
    },
    {
      "cell_type": "code",
      "source": [
        "%%shell\n",
        "cd 'PBGENA/Code/Link Prediction'\n",
        "python -B link_prediction.py --graph Facebook --algorithm BGENA --erf 0.3 --N 2000 --alpha 0.8 --b_a 1 --b_t 0"
      ],
      "metadata": {
        "colab": {
          "base_uri": "https://localhost:8080/"
        },
        "id": "beMhRbtkRP6t",
        "outputId": "4195ac4e-1284-4dec-a005-5d3b3b28a152"
      },
      "execution_count": null,
      "outputs": [
        {
          "output_type": "stream",
          "name": "stdout",
          "text": [
            "\n",
            "Setting up Link Predictor...\n",
            "\n",
            "Setting up BGENA...\n",
            "\n",
            "Generating negative edges...\n",
            "\n",
            "Removing unwanted edges...\n",
            "\n",
            "Facebook:\n",
            "#Nodes = 4039\n",
            "#Edges = 88234\n",
            "#Attributes = 1283\n",
            "\n",
            "Creating residual graph...\n",
            "\n",
            "Randomly removing edges...\n",
            "\n",
            "Embedding residual graph and forming train-test data...\n",
            "\n",
            "Embedding...\n",
            "\n",
            "Mapping...\n",
            "\n",
            "Sketching...\n",
            "\n",
            "Edge Propagation...\n",
            "\n",
            "Embedding Time = 1.4965s\n",
            "\n",
            "Training Predictor...\n",
            "\n",
            "Performance:\n",
            "Area Under Curve for Receiver Operating Characteristic Curve = 0.9770009843563413\n",
            "Average Precision = 0.9789158260837185\n",
            "\n",
            "Total Prediction Time = 12.3897s\n",
            "\n"
          ]
        },
        {
          "output_type": "execute_result",
          "data": {
            "text/plain": [
              ""
            ]
          },
          "metadata": {},
          "execution_count": 4
        }
      ]
    },
    {
      "cell_type": "markdown",
      "source": [
        "# PBGENA Node Embedding"
      ],
      "metadata": {
        "id": "xkg1RFjym2Lh"
      }
    },
    {
      "cell_type": "code",
      "source": [
        "%%shell\n",
        "cd PBGENA/Code/Algorithm\n",
        "python PBGENA.py --graph PubMed --N 8000 --alpha 0.65 --b_a 0 --b_t 0.8 --p 6"
      ],
      "metadata": {
        "colab": {
          "base_uri": "https://localhost:8080/"
        },
        "id": "KWAUTrKOJ4fR",
        "outputId": "f622c295-17ca-427c-bfca-3b87eb1d3b26"
      },
      "execution_count": null,
      "outputs": [
        {
          "output_type": "stream",
          "name": "stdout",
          "text": [
            "\n",
            "Setting up PBGENA...\n",
            "\n",
            "Removing unwanted edges...\n",
            "\n",
            "PubMed:\n",
            "#Nodes = 19717\n",
            "#Edges = 44324\n",
            "#Attributes = 500\n",
            "\n",
            "Embedding...\n",
            "\n",
            "Embedding Time = 24.3049s\n",
            "Embedding Time + Graph Reading Time = 29.3582s\n",
            "\n"
          ]
        },
        {
          "output_type": "execute_result",
          "data": {
            "text/plain": [
              ""
            ]
          },
          "metadata": {},
          "execution_count": 6
        }
      ]
    },
    {
      "cell_type": "markdown",
      "source": [
        "# PBGENA Node Classification"
      ],
      "metadata": {
        "id": "qqyMHjtwm7kx"
      }
    },
    {
      "cell_type": "code",
      "source": [
        "%%shell\n",
        "cd 'PBGENA/Code/Node Classification'\n",
        "python node_classification.py --graph PubMed --algorithm PBGENA --tr 0.7"
      ],
      "metadata": {
        "id": "yafeh4gdKB1A",
        "colab": {
          "base_uri": "https://localhost:8080/"
        },
        "outputId": "e1dac0e1-72a3-4e64-af90-e9c9a8904fe8"
      },
      "execution_count": null,
      "outputs": [
        {
          "output_type": "stream",
          "name": "stdout",
          "text": [
            "\n",
            "Setting up Node Classifier...\n",
            "\n",
            "Removing unlabeled instances...\n",
            "\n",
            "PubMed:\n",
            "#Labels = 3\n",
            "\n",
            "Training Classifier...\n",
            "\n",
            "Performance:\n",
            "Macro F1 = 0.877964959914756\n",
            "Micro F1 = 0.8803245436105477\n",
            "\n",
            "Classification Time = 157.576s\n",
            "\n"
          ]
        },
        {
          "output_type": "execute_result",
          "data": {
            "text/plain": [
              ""
            ]
          },
          "metadata": {},
          "execution_count": 7
        }
      ]
    },
    {
      "cell_type": "markdown",
      "source": [
        "# PBGENA Link Prediction"
      ],
      "metadata": {
        "id": "msrTMQmi8RJf"
      }
    },
    {
      "cell_type": "code",
      "source": [
        "%%shell\n",
        "cd 'PBGENA/Code/Link Prediction'\n",
        "python -B link_prediction.py --graph PubMed --algorithm PBGENA --erf 0.3 --N 8000 --alpha 0.95 --b_a 0.2 --b_t 0.2 --p 6"
      ],
      "metadata": {
        "colab": {
          "base_uri": "https://localhost:8080/"
        },
        "id": "MU5e62OpV5nQ",
        "outputId": "5f93d3a2-23fe-49b7-b65d-f6c7e28d2f24"
      },
      "execution_count": null,
      "outputs": [
        {
          "output_type": "stream",
          "name": "stdout",
          "text": [
            "\n",
            "Setting up Link Predictor...\n",
            "\n",
            "Setting up PBGENA...\n",
            "\n",
            "Generating negative edges...\n",
            "\n",
            "Removing unwanted edges...\n",
            "\n",
            "PubMed:\n",
            "#Nodes = 19717\n",
            "#Edges = 44324\n",
            "#Attributes = 500\n",
            "\n",
            "Creating residual graph...\n",
            "\n",
            "Randomly removing edges...\n",
            "\n",
            "Embedding residual graph and forming train-test data...\n",
            "\n",
            "Embedding...\n",
            "\n",
            "Embedding Time = 24.3823s\n",
            "Embedding Time + Graph Reading Time = 29.022s\n",
            "\n",
            "Training Predictor...\n",
            "\n",
            "Performance:\n",
            "Area Under Curve for Receiver Operating Characteristic Curve = 0.9179009284469541\n",
            "Average Precision = 0.9220349829905391\n",
            "\n",
            "Total Prediction Time = 37.9462s\n",
            "\n"
          ]
        },
        {
          "output_type": "execute_result",
          "data": {
            "text/plain": [
              ""
            ]
          },
          "metadata": {},
          "execution_count": 8
        }
      ]
    },
    {
      "cell_type": "markdown",
      "source": [
        "# Baseline Node Embedding"
      ],
      "metadata": {
        "id": "tQSWJ3Hu03qg"
      }
    },
    {
      "cell_type": "code",
      "source": [
        "%%shell\n",
        "cd PBGENA/Code/Algorithm\n",
        "python Baseline.py --graph CiteSeer --algorithm FeatherNode --reduction_dimensions 25 --eval_points 5 --order 1 --theta_max 1"
      ],
      "metadata": {
        "colab": {
          "base_uri": "https://localhost:8080/"
        },
        "id": "ALndrKLf06jQ",
        "outputId": "bda8dfbb-2d2c-4fb5-f5ce-ab58026ea8cb"
      },
      "execution_count": 2,
      "outputs": [
        {
          "output_type": "stream",
          "name": "stdout",
          "text": [
            "\n",
            "Setting up the baseline...\n",
            "\n",
            "Preparing the graph...\n",
            "\n",
            "CiteSeer:\n",
            "#Nodes = 3312\n",
            "#Edges = 4536\n",
            "#Attributes = 3703\n",
            "\n",
            "Embedding...\n",
            "\n",
            "Embedding Time = 0.4107s\n",
            "\n"
          ]
        },
        {
          "output_type": "execute_result",
          "data": {
            "text/plain": [
              ""
            ]
          },
          "metadata": {},
          "execution_count": 2
        }
      ]
    },
    {
      "cell_type": "markdown",
      "source": [
        "# Baseline Node Classification"
      ],
      "metadata": {
        "id": "o3CaDYUk1Ab_"
      }
    },
    {
      "cell_type": "code",
      "source": [
        "%%shell\n",
        "cd 'PBGENA/Code/Node Classification'\n",
        "python node_classification.py --graph CiteSeer --algorithm FeatherNode --tr 0.7"
      ],
      "metadata": {
        "colab": {
          "base_uri": "https://localhost:8080/"
        },
        "id": "FK7VoMfE1Eto",
        "outputId": "f19589f2-2eef-4495-ae33-3fe3bef73523"
      },
      "execution_count": 3,
      "outputs": [
        {
          "output_type": "stream",
          "name": "stdout",
          "text": [
            "\n",
            "Setting up Node Classifier...\n",
            "\n",
            "Removing unlabeled instances...\n",
            "\n",
            "CiteSeer:\n",
            "#Labels = 6\n",
            "\n",
            "Training Classifier...\n",
            "\n",
            "Performance:\n",
            "Macro F1 = 0.6773385440868632\n",
            "Micro F1 = 0.727364185110664\n",
            "\n",
            "Classification Time = 1.5388s\n",
            "\n"
          ]
        },
        {
          "output_type": "execute_result",
          "data": {
            "text/plain": [
              ""
            ]
          },
          "metadata": {},
          "execution_count": 3
        }
      ]
    },
    {
      "cell_type": "markdown",
      "source": [
        "# Baseline Link Prediction"
      ],
      "metadata": {
        "id": "fyXdkqqt1H0o"
      }
    },
    {
      "cell_type": "code",
      "source": [
        "%%shell\n",
        "cd 'PBGENA/Code/Link Prediction'\n",
        "python -B link_prediction.py --graph CiteSeer --algorithm FeatherNode --erf 0.3 --reduction_dimensions 25 --eval_points 5 --order 1 --theta_max 1"
      ],
      "metadata": {
        "colab": {
          "base_uri": "https://localhost:8080/"
        },
        "id": "H0E9Lwaj1KYY",
        "outputId": "862e97d8-7891-4d0e-96b0-470cb24d5a82"
      },
      "execution_count": 5,
      "outputs": [
        {
          "output_type": "stream",
          "name": "stdout",
          "text": [
            "\n",
            "Setting up Link Predictor...\n",
            "\n",
            "Setting up the baseline...\n",
            "\n",
            "Generating negative edges...\n",
            "\n",
            "Preparing the graph...\n",
            "\n",
            "CiteSeer:\n",
            "#Nodes = 3312\n",
            "#Edges = 4536\n",
            "#Attributes = 3703\n",
            "\n",
            "Creating residual graph...\n",
            "\n",
            "Randomly removing edges...\n",
            "\n",
            "Embedding residual graph...\n",
            "\n",
            "Embedding...\n",
            "\n",
            "Embedding Time = 0.4016s\n",
            "\n",
            "Generating train-test sets...\n",
            "\n",
            "Training Predictor...\n",
            "\n",
            "Performance:\n",
            "Area Under Curve for Receiver Operating Characteristic Curve = 0.8488413711072665\n",
            "Average Precision = 0.875902699724909\n",
            "\n",
            "Total Prediction Time = 0.8423s\n",
            "\n"
          ]
        },
        {
          "output_type": "execute_result",
          "data": {
            "text/plain": [
              ""
            ]
          },
          "metadata": {},
          "execution_count": 5
        }
      ]
    }
  ]
}